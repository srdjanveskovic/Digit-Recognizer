{
 "cells": [
  {
   "cell_type": "markdown",
   "id": "700f195f",
   "metadata": {},
   "source": [
    "# MNIST Deep Learning"
   ]
  },
  {
   "cell_type": "code",
   "execution_count": 149,
   "id": "95e9218a",
   "metadata": {},
   "outputs": [],
   "source": [
    "import pandas as pd\n",
    "import numpy as np\n",
    "import matplotlib.pyplot as plt\n",
    "import seaborn as sns\n",
    "%matplotlib inline\n",
    "\n",
    "from sklearn.model_selection import train_test_split\n",
    "from sklearn.metrics import confusion_matrix, classification_report\n",
    "\n",
    "from tensorflow.keras.utils import to_categorical\n",
    "from tensorflow.keras.models import Sequential\n",
    "from tensorflow.keras.layers import Dense, Conv2D, MaxPool2D, Dropout, Flatten, AveragePooling2D\n",
    "from tensorflow.keras.optimizers import Adam, RMSprop"
   ]
  },
  {
   "cell_type": "code",
   "execution_count": 11,
   "id": "d54ea005",
   "metadata": {},
   "outputs": [],
   "source": [
    "train = pd.read_csv('train.csv')\n",
    "test = pd.read_csv('test.csv')"
   ]
  },
  {
   "cell_type": "code",
   "execution_count": 14,
   "id": "e958517f",
   "metadata": {},
   "outputs": [
    {
     "name": "stdout",
     "output_type": "stream",
     "text": [
      "(42000, 785)\n"
     ]
    },
    {
     "data": {
      "text/html": [
       "<div>\n",
       "<style scoped>\n",
       "    .dataframe tbody tr th:only-of-type {\n",
       "        vertical-align: middle;\n",
       "    }\n",
       "\n",
       "    .dataframe tbody tr th {\n",
       "        vertical-align: top;\n",
       "    }\n",
       "\n",
       "    .dataframe thead th {\n",
       "        text-align: right;\n",
       "    }\n",
       "</style>\n",
       "<table border=\"1\" class=\"dataframe\">\n",
       "  <thead>\n",
       "    <tr style=\"text-align: right;\">\n",
       "      <th></th>\n",
       "      <th>label</th>\n",
       "      <th>pixel0</th>\n",
       "      <th>pixel1</th>\n",
       "      <th>pixel2</th>\n",
       "      <th>pixel3</th>\n",
       "      <th>pixel4</th>\n",
       "      <th>pixel5</th>\n",
       "      <th>pixel6</th>\n",
       "      <th>pixel7</th>\n",
       "      <th>pixel8</th>\n",
       "      <th>...</th>\n",
       "      <th>pixel774</th>\n",
       "      <th>pixel775</th>\n",
       "      <th>pixel776</th>\n",
       "      <th>pixel777</th>\n",
       "      <th>pixel778</th>\n",
       "      <th>pixel779</th>\n",
       "      <th>pixel780</th>\n",
       "      <th>pixel781</th>\n",
       "      <th>pixel782</th>\n",
       "      <th>pixel783</th>\n",
       "    </tr>\n",
       "  </thead>\n",
       "  <tbody>\n",
       "    <tr>\n",
       "      <th>0</th>\n",
       "      <td>1</td>\n",
       "      <td>0</td>\n",
       "      <td>0</td>\n",
       "      <td>0</td>\n",
       "      <td>0</td>\n",
       "      <td>0</td>\n",
       "      <td>0</td>\n",
       "      <td>0</td>\n",
       "      <td>0</td>\n",
       "      <td>0</td>\n",
       "      <td>...</td>\n",
       "      <td>0</td>\n",
       "      <td>0</td>\n",
       "      <td>0</td>\n",
       "      <td>0</td>\n",
       "      <td>0</td>\n",
       "      <td>0</td>\n",
       "      <td>0</td>\n",
       "      <td>0</td>\n",
       "      <td>0</td>\n",
       "      <td>0</td>\n",
       "    </tr>\n",
       "    <tr>\n",
       "      <th>1</th>\n",
       "      <td>0</td>\n",
       "      <td>0</td>\n",
       "      <td>0</td>\n",
       "      <td>0</td>\n",
       "      <td>0</td>\n",
       "      <td>0</td>\n",
       "      <td>0</td>\n",
       "      <td>0</td>\n",
       "      <td>0</td>\n",
       "      <td>0</td>\n",
       "      <td>...</td>\n",
       "      <td>0</td>\n",
       "      <td>0</td>\n",
       "      <td>0</td>\n",
       "      <td>0</td>\n",
       "      <td>0</td>\n",
       "      <td>0</td>\n",
       "      <td>0</td>\n",
       "      <td>0</td>\n",
       "      <td>0</td>\n",
       "      <td>0</td>\n",
       "    </tr>\n",
       "  </tbody>\n",
       "</table>\n",
       "<p>2 rows × 785 columns</p>\n",
       "</div>"
      ],
      "text/plain": [
       "   label  pixel0  pixel1  pixel2  pixel3  pixel4  pixel5  pixel6  pixel7  \\\n",
       "0      1       0       0       0       0       0       0       0       0   \n",
       "1      0       0       0       0       0       0       0       0       0   \n",
       "\n",
       "   pixel8  ...  pixel774  pixel775  pixel776  pixel777  pixel778  pixel779  \\\n",
       "0       0  ...         0         0         0         0         0         0   \n",
       "1       0  ...         0         0         0         0         0         0   \n",
       "\n",
       "   pixel780  pixel781  pixel782  pixel783  \n",
       "0         0         0         0         0  \n",
       "1         0         0         0         0  \n",
       "\n",
       "[2 rows x 785 columns]"
      ]
     },
     "execution_count": 14,
     "metadata": {},
     "output_type": "execute_result"
    }
   ],
   "source": [
    "print(train.shape)\n",
    "train.head(2)"
   ]
  },
  {
   "cell_type": "code",
   "execution_count": 15,
   "id": "8bb04b58",
   "metadata": {},
   "outputs": [
    {
     "name": "stdout",
     "output_type": "stream",
     "text": [
      "(28000, 784)\n"
     ]
    },
    {
     "data": {
      "text/html": [
       "<div>\n",
       "<style scoped>\n",
       "    .dataframe tbody tr th:only-of-type {\n",
       "        vertical-align: middle;\n",
       "    }\n",
       "\n",
       "    .dataframe tbody tr th {\n",
       "        vertical-align: top;\n",
       "    }\n",
       "\n",
       "    .dataframe thead th {\n",
       "        text-align: right;\n",
       "    }\n",
       "</style>\n",
       "<table border=\"1\" class=\"dataframe\">\n",
       "  <thead>\n",
       "    <tr style=\"text-align: right;\">\n",
       "      <th></th>\n",
       "      <th>pixel0</th>\n",
       "      <th>pixel1</th>\n",
       "      <th>pixel2</th>\n",
       "      <th>pixel3</th>\n",
       "      <th>pixel4</th>\n",
       "      <th>pixel5</th>\n",
       "      <th>pixel6</th>\n",
       "      <th>pixel7</th>\n",
       "      <th>pixel8</th>\n",
       "      <th>pixel9</th>\n",
       "      <th>...</th>\n",
       "      <th>pixel774</th>\n",
       "      <th>pixel775</th>\n",
       "      <th>pixel776</th>\n",
       "      <th>pixel777</th>\n",
       "      <th>pixel778</th>\n",
       "      <th>pixel779</th>\n",
       "      <th>pixel780</th>\n",
       "      <th>pixel781</th>\n",
       "      <th>pixel782</th>\n",
       "      <th>pixel783</th>\n",
       "    </tr>\n",
       "  </thead>\n",
       "  <tbody>\n",
       "    <tr>\n",
       "      <th>0</th>\n",
       "      <td>0</td>\n",
       "      <td>0</td>\n",
       "      <td>0</td>\n",
       "      <td>0</td>\n",
       "      <td>0</td>\n",
       "      <td>0</td>\n",
       "      <td>0</td>\n",
       "      <td>0</td>\n",
       "      <td>0</td>\n",
       "      <td>0</td>\n",
       "      <td>...</td>\n",
       "      <td>0</td>\n",
       "      <td>0</td>\n",
       "      <td>0</td>\n",
       "      <td>0</td>\n",
       "      <td>0</td>\n",
       "      <td>0</td>\n",
       "      <td>0</td>\n",
       "      <td>0</td>\n",
       "      <td>0</td>\n",
       "      <td>0</td>\n",
       "    </tr>\n",
       "    <tr>\n",
       "      <th>1</th>\n",
       "      <td>0</td>\n",
       "      <td>0</td>\n",
       "      <td>0</td>\n",
       "      <td>0</td>\n",
       "      <td>0</td>\n",
       "      <td>0</td>\n",
       "      <td>0</td>\n",
       "      <td>0</td>\n",
       "      <td>0</td>\n",
       "      <td>0</td>\n",
       "      <td>...</td>\n",
       "      <td>0</td>\n",
       "      <td>0</td>\n",
       "      <td>0</td>\n",
       "      <td>0</td>\n",
       "      <td>0</td>\n",
       "      <td>0</td>\n",
       "      <td>0</td>\n",
       "      <td>0</td>\n",
       "      <td>0</td>\n",
       "      <td>0</td>\n",
       "    </tr>\n",
       "  </tbody>\n",
       "</table>\n",
       "<p>2 rows × 784 columns</p>\n",
       "</div>"
      ],
      "text/plain": [
       "   pixel0  pixel1  pixel2  pixel3  pixel4  pixel5  pixel6  pixel7  pixel8  \\\n",
       "0       0       0       0       0       0       0       0       0       0   \n",
       "1       0       0       0       0       0       0       0       0       0   \n",
       "\n",
       "   pixel9  ...  pixel774  pixel775  pixel776  pixel777  pixel778  pixel779  \\\n",
       "0       0  ...         0         0         0         0         0         0   \n",
       "1       0  ...         0         0         0         0         0         0   \n",
       "\n",
       "   pixel780  pixel781  pixel782  pixel783  \n",
       "0         0         0         0         0  \n",
       "1         0         0         0         0  \n",
       "\n",
       "[2 rows x 784 columns]"
      ]
     },
     "execution_count": 15,
     "metadata": {},
     "output_type": "execute_result"
    }
   ],
   "source": [
    "print(test.shape)\n",
    "test.head(2)"
   ]
  },
  {
   "cell_type": "code",
   "execution_count": 16,
   "id": "8cfef4a8",
   "metadata": {},
   "outputs": [],
   "source": [
    "Y_train = train['label']\n",
    "X_train = train.drop('label',axis = 1)"
   ]
  },
  {
   "cell_type": "code",
   "execution_count": 17,
   "id": "eefaef35",
   "metadata": {},
   "outputs": [
    {
     "name": "stderr",
     "output_type": "stream",
     "text": [
      "C:\\Users\\srdjan\\anaconda3\\lib\\site-packages\\seaborn\\_decorators.py:36: FutureWarning: Pass the following variable as a keyword arg: x. From version 0.12, the only valid positional argument will be `data`, and passing other arguments without an explicit keyword will result in an error or misinterpretation.\n",
      "  warnings.warn(\n"
     ]
    },
    {
     "data": {
      "text/plain": [
       "<AxesSubplot:xlabel='label', ylabel='count'>"
      ]
     },
     "execution_count": 17,
     "metadata": {},
     "output_type": "execute_result"
    },
    {
     "data": {
      "image/png": "[encoded data removed]",
      "text/plain": [
       "<Figure size 432x288 with 1 Axes>"
      ]
     },
     "metadata": {
      "needs_background": "light"
     },
     "output_type": "display_data"
    }
   ],
   "source": [
    "sns.countplot(Y_train)"
   ]
  },
  {
   "cell_type": "code",
   "execution_count": 26,
   "id": "24fb068a",
   "metadata": {},
   "outputs": [
    {
     "data": {
      "text/plain": [
       "0"
      ]
     },
     "execution_count": 26,
     "metadata": {},
     "output_type": "execute_result"
    }
   ],
   "source": [
    "X_train.isnull().any().sum() # Check for null values"
   ]
  },
  {
   "cell_type": "code",
   "execution_count": 27,
   "id": "daa0ea03",
   "metadata": {},
   "outputs": [
    {
     "data": {
      "text/plain": [
       "0"
      ]
     },
     "execution_count": 27,
     "metadata": {},
     "output_type": "execute_result"
    }
   ],
   "source": [
    "test.isnull().any().sum()"
   ]
  },
  {
   "cell_type": "code",
   "execution_count": null,
   "id": "ab130a14",
   "metadata": {},
   "outputs": [],
   "source": [
    "X_train = X_train / 255.0 # We want to normalize data to be in [0..1]\n",
    "test = test / 255.0"
   ]
  },
  {
   "cell_type": "code",
   "execution_count": 35,
   "id": "8c845fd7",
   "metadata": {},
   "outputs": [],
   "source": [
    "# Convert train dataset to (num_images, img_rows, img_cols, channel) format. channel = 1 for grayscale image\n",
    "X_train = X_train.values.reshape(42000,28,28,1) \n",
    "test = test.values.reshape(28000,28,28,1)"
   ]
  },
  {
   "cell_type": "code",
   "execution_count": 36,
   "id": "1a51ff8d",
   "metadata": {},
   "outputs": [],
   "source": [
    "Y_train = to_categorical(Y_train) # one-hot encoding"
   ]
  },
  {
   "cell_type": "code",
   "execution_count": 43,
   "id": "e2f684f1",
   "metadata": {},
   "outputs": [
    {
     "data": {
      "text/plain": [
       "array([0., 1., 0., 0., 0., 0., 0., 0., 0., 0.], dtype=float32)"
      ]
     },
     "execution_count": 43,
     "metadata": {},
     "output_type": "execute_result"
    }
   ],
   "source": [
    "Y_train[0]"
   ]
  },
  {
   "cell_type": "code",
   "execution_count": 46,
   "id": "9ad622bc",
   "metadata": {},
   "outputs": [
    {
     "data": {
      "text/plain": [
       "<matplotlib.image.AxesImage at 0x1c4094acc70>"
      ]
     },
     "execution_count": 46,
     "metadata": {},
     "output_type": "execute_result"
    },
    {
     "data": {
      "image/png": "[encoded data removed]",
      "text/plain": [
       "<Figure size 432x288 with 1 Axes>"
      ]
     },
     "metadata": {
      "needs_background": "light"
     },
     "output_type": "display_data"
    }
   ],
   "source": [
    "plt.imshow(X_train[3]) # example of a hand-written number image"
   ]
  },
  {
   "cell_type": "code",
   "execution_count": 91,
   "id": "81f453f9",
   "metadata": {},
   "outputs": [],
   "source": [
    "# Building a CNN model (based on LeNet architecture)\n",
    "\n",
    "model = Sequential()\n",
    "\n",
    "model.add(Conv2D(filters = 6, kernel_size = (5,5), padding = 'same', activation = 'sigmoid', input_shape = (28,28,1)))\n",
    "model.add(AveragePooling2D(pool_size=(2,2)))\n",
    "model.add(Conv2D(filters = 16, kernel_size = (5,5), padding = 'valid', activation = 'sigmoid'))\n",
    "model.add(AveragePooling2D(pool_size=(2,2)))\n",
    "model.add(Flatten())\n",
    "model.add(Dense(120, activation = 'sigmoid'))\n",
    "model.add(Dense(84, activation = 'sigmoid'))\n",
    "model.add(Dense(10, activation = 'softmax'))"
   ]
  },
  {
   "cell_type": "code",
   "execution_count": 92,
   "id": "02e54e66",
   "metadata": {},
   "outputs": [
    {
     "name": "stdout",
     "output_type": "stream",
     "text": [
      "Model: \"sequential_18\"\n",
      "_________________________________________________________________\n",
      "Layer (type)                 Output Shape              Param #   \n",
      "=================================================================\n",
      "conv2d_24 (Conv2D)           (None, 28, 28, 6)         156       \n",
      "_________________________________________________________________\n",
      "average_pooling2d_14 (Averag (None, 14, 14, 6)         0         \n",
      "_________________________________________________________________\n",
      "conv2d_25 (Conv2D)           (None, 10, 10, 16)        2416      \n",
      "_________________________________________________________________\n",
      "average_pooling2d_15 (Averag (None, 5, 5, 16)          0         \n",
      "_________________________________________________________________\n",
      "flatten_5 (Flatten)          (None, 400)               0         \n",
      "_________________________________________________________________\n",
      "dense_7 (Dense)              (None, 120)               48120     \n",
      "_________________________________________________________________\n",
      "dense_8 (Dense)              (None, 84)                10164     \n",
      "_________________________________________________________________\n",
      "dense_9 (Dense)              (None, 10)                850       \n",
      "=================================================================\n",
      "Total params: 61,706\n",
      "Trainable params: 61,706\n",
      "Non-trainable params: 0\n",
      "_________________________________________________________________\n"
     ]
    }
   ],
   "source": [
    "model.summary()"
   ]
  },
  {
   "cell_type": "code",
   "execution_count": 93,
   "id": "19a9c668",
   "metadata": {},
   "outputs": [],
   "source": [
    "# Split into train and validation data\n",
    "X_train, X_val, Y_train, Y_val = train_test_split(X_train, Y_train, test_size=0.1, random_state=101) "
   ]
  },
  {
   "cell_type": "code",
   "execution_count": 94,
   "id": "9b1d4936",
   "metadata": {},
   "outputs": [],
   "source": [
    "# loss function used for categorical classifications above binary is: 'categorical_crossentropy'\n",
    "model.compile(optimizer = 'Adam', loss = 'categorical_crossentropy', metrics=['accuracy'])"
   ]
  },
  {
   "cell_type": "code",
   "execution_count": 95,
   "id": "be53cfaa",
   "metadata": {},
   "outputs": [
    {
     "name": "stdout",
     "output_type": "stream",
     "text": [
      "Epoch 1/20\n",
      "240/240 - 4s - loss: 1.6247 - accuracy: 0.4873 - val_loss: 0.7016 - val_accuracy: 0.8089\n",
      "Epoch 2/20\n",
      "240/240 - 4s - loss: 0.4957 - accuracy: 0.8584 - val_loss: 0.3803 - val_accuracy: 0.8892\n",
      "Epoch 3/20\n",
      "240/240 - 4s - loss: 0.3119 - accuracy: 0.9071 - val_loss: 0.2517 - val_accuracy: 0.9286\n",
      "Epoch 4/20\n",
      "240/240 - 4s - loss: 0.2216 - accuracy: 0.9353 - val_loss: 0.1816 - val_accuracy: 0.9515\n",
      "Epoch 5/20\n",
      "240/240 - 4s - loss: 0.1694 - accuracy: 0.9503 - val_loss: 0.1423 - val_accuracy: 0.9583\n",
      "Epoch 6/20\n",
      "240/240 - 4s - loss: 0.1392 - accuracy: 0.9583 - val_loss: 0.1145 - val_accuracy: 0.9659\n",
      "Epoch 7/20\n",
      "240/240 - 4s - loss: 0.1174 - accuracy: 0.9643 - val_loss: 0.1031 - val_accuracy: 0.9703\n",
      "Epoch 8/20\n",
      "240/240 - 4s - loss: 0.1026 - accuracy: 0.9691 - val_loss: 0.0974 - val_accuracy: 0.9697\n",
      "Epoch 9/20\n",
      "240/240 - 4s - loss: 0.0926 - accuracy: 0.9723 - val_loss: 0.0835 - val_accuracy: 0.9724\n",
      "Epoch 10/20\n",
      "240/240 - 4s - loss: 0.0845 - accuracy: 0.9744 - val_loss: 0.0750 - val_accuracy: 0.9762\n",
      "Epoch 11/20\n",
      "240/240 - 4s - loss: 0.0765 - accuracy: 0.9768 - val_loss: 0.0737 - val_accuracy: 0.9753\n",
      "Epoch 12/20\n",
      "240/240 - 4s - loss: 0.0708 - accuracy: 0.9781 - val_loss: 0.0718 - val_accuracy: 0.9753\n",
      "Epoch 13/20\n",
      "240/240 - 4s - loss: 0.0661 - accuracy: 0.9806 - val_loss: 0.0616 - val_accuracy: 0.9788\n",
      "Epoch 14/20\n",
      "240/240 - 4s - loss: 0.0627 - accuracy: 0.9811 - val_loss: 0.0746 - val_accuracy: 0.9747\n",
      "Epoch 15/20\n",
      "240/240 - 4s - loss: 0.0588 - accuracy: 0.9811 - val_loss: 0.0588 - val_accuracy: 0.9806\n",
      "Epoch 16/20\n",
      "240/240 - 4s - loss: 0.0531 - accuracy: 0.9842 - val_loss: 0.0566 - val_accuracy: 0.9809\n",
      "Epoch 17/20\n",
      "240/240 - 4s - loss: 0.0517 - accuracy: 0.9840 - val_loss: 0.0545 - val_accuracy: 0.9806\n",
      "Epoch 18/20\n",
      "240/240 - 4s - loss: 0.0480 - accuracy: 0.9846 - val_loss: 0.0565 - val_accuracy: 0.9806\n",
      "Epoch 19/20\n",
      "240/240 - 4s - loss: 0.0450 - accuracy: 0.9864 - val_loss: 0.0567 - val_accuracy: 0.9806\n",
      "Epoch 20/20\n",
      "240/240 - 4s - loss: 0.0445 - accuracy: 0.9856 - val_loss: 0.0525 - val_accuracy: 0.9827\n"
     ]
    }
   ],
   "source": [
    "history = model.fit(X_train, Y_train, batch_size=128, epochs = 20, validation_data=(X_val, Y_val), verbose = 2)"
   ]
  },
  {
   "cell_type": "code",
   "execution_count": 125,
   "id": "d7a0a52c",
   "metadata": {},
   "outputs": [
    {
     "name": "stdout",
     "output_type": "stream",
     "text": [
      "Training accuracy is 0.9855967164039612\n",
      "Validation accuracy is 0.982657253742218\n"
     ]
    }
   ],
   "source": [
    "print('Training accuracy is {}'.format(history.history['accuracy'][-1]))\n",
    "print('Validation accuracy is {}'.format(history.history['val_accuracy'][-1]))"
   ]
  },
  {
   "cell_type": "code",
   "execution_count": 123,
   "id": "9ce6edbd",
   "metadata": {},
   "outputs": [
    {
     "data": {
      "text/plain": [
       "0.9855967164039612"
      ]
     },
     "execution_count": 123,
     "metadata": {},
     "output_type": "execute_result"
    }
   ],
   "source": [
    "history.history['accuracy'][-1]"
   ]
  },
  {
   "cell_type": "code",
   "execution_count": 98,
   "id": "aca5959f",
   "metadata": {},
   "outputs": [
    {
     "data": {
      "text/plain": [
       "<matplotlib.legend.Legend at 0x1c4087ef4f0>"
      ]
     },
     "execution_count": 98,
     "metadata": {},
     "output_type": "execute_result"
    },
    {
     "data": {
      "image/png": "[encoded data removed]",
      "text/plain": [
       "<Figure size 864x432 with 2 Axes>"
      ]
     },
     "metadata": {
      "needs_background": "light"
     },
     "output_type": "display_data"
    }
   ],
   "source": [
    "fig, ax = plt.subplots(1,2, figsize= (12,6))\n",
    "\n",
    "ax[0].plot(history.history['loss'], label = 'Training loss')\n",
    "ax[0].plot(history.history['val_loss'], label = 'Validation loss')\n",
    "ax[0].legend()\n",
    "\n",
    "ax[1].plot(history.history['accuracy'], label = 'Training accuracy')\n",
    "ax[1].plot(history.history['val_accuracy'], label = 'Validation accuracy')\n",
    "ax[1].legend()\n",
    "#Our model is good, with validation accuracy of 98.27% and have no signs of overfitting"
   ]
  },
  {
   "cell_type": "code",
   "execution_count": 99,
   "id": "10af2b87",
   "metadata": {},
   "outputs": [],
   "source": [
    "Y_pred = model.predict(X_val)"
   ]
  },
  {
   "cell_type": "code",
   "execution_count": 102,
   "id": "e9012d2c",
   "metadata": {},
   "outputs": [],
   "source": [
    "Y_pred = np.argmax(Y_pred, axis = 1) # We must convert predictions to one-hot vectors"
   ]
  },
  {
   "cell_type": "code",
   "execution_count": 103,
   "id": "a3e56d89",
   "metadata": {},
   "outputs": [],
   "source": [
    "Y_true = np.argmax(Y_val, axis = 1)"
   ]
  },
  {
   "cell_type": "code",
   "execution_count": 117,
   "id": "25b6c6a2",
   "metadata": {},
   "outputs": [
    {
     "data": {
      "text/plain": [
       "<sklearn.metrics._plot.confusion_matrix.ConfusionMatrixDisplay at 0x1c43813f6a0>"
      ]
     },
     "execution_count": 117,
     "metadata": {},
     "output_type": "execute_result"
    },
    {
     "data": {
      "image/png": "[encoded data removed]",
      "text/plain": [
       "<Figure size 432x288 with 2 Axes>"
      ]
     },
     "metadata": {
      "needs_background": "light"
     },
     "output_type": "display_data"
    }
   ],
   "source": [
    "from sklearn.metrics import ConfusionMatrixDisplay\n",
    "ConfusionMatrixDisplay(confusion_matrix(Y_true,Y_pred)).plot()\n",
    "#Seems like a pretty good model with most mistakes on predicting a 8 and 9 digit"
   ]
  },
  {
   "cell_type": "code",
   "execution_count": 126,
   "id": "9244a67e",
   "metadata": {},
   "outputs": [],
   "source": [
    "results = model.predict(test)"
   ]
  },
  {
   "cell_type": "code",
   "execution_count": 128,
   "id": "4ae4736e",
   "metadata": {},
   "outputs": [],
   "source": [
    "results = np.argmax(results, axis=1)"
   ]
  },
  {
   "cell_type": "code",
   "execution_count": 129,
   "id": "091e5dd7",
   "metadata": {},
   "outputs": [
    {
     "data": {
      "text/plain": [
       "array([2, 0, 9, ..., 3, 9, 2], dtype=int64)"
      ]
     },
     "execution_count": 129,
     "metadata": {},
     "output_type": "execute_result"
    }
   ],
   "source": []
  },
  {
   "cell_type": "code",
   "execution_count": 152,
   "id": "ce83dddc",
   "metadata": {},
   "outputs": [],
   "source": [
    "# Let's try something slightly different from  LeNet architecture and compare results\n",
    "# We will change Average Pooling for a Max Pooling as a more modern solution\n",
    "# We will turn on padding in second convolutional layer\n",
    "# We will change activation function to 'rectified linear units' - ReLU\n",
    "# We will change validation data perc. to 0.2\n",
    "\n",
    "\n",
    "model_new = Sequential()\n",
    "\n",
    "model_new.add(Conv2D(filters = 6, kernel_size = (5,5), padding = 'same', activation = 'relu', input_shape = (28,28,1)))\n",
    "model_new.add(MaxPool2D(pool_size=(2,2)))\n",
    "model_new.add(Conv2D(filters = 16, kernel_size = (5,5), padding = 'same', activation = 'relu'))\n",
    "model_new.add(MaxPool2D(pool_size=(2,2)))\n",
    "model_new.add(Flatten())\n",
    "model_new.add(Dense(120, activation = 'relu'))\n",
    "model_new.add(Dense(84, activation = 'relu'))\n",
    "model_new.add(Dense(10, activation = 'softmax'))"
   ]
  },
  {
   "cell_type": "code",
   "execution_count": 153,
   "id": "5f01505d",
   "metadata": {},
   "outputs": [],
   "source": [
    "X_train, X_val, Y_train, Y_val = train_test_split(X_train, Y_train, test_size=0.2, random_state=101) "
   ]
  },
  {
   "cell_type": "code",
   "execution_count": 154,
   "id": "b40a293c",
   "metadata": {},
   "outputs": [],
   "source": [
    "model_new.compile(optimizer = 'Adam', loss = 'categorical_crossentropy', metrics=['accuracy'])"
   ]
  },
  {
   "cell_type": "code",
   "execution_count": 155,
   "id": "16768d37",
   "metadata": {},
   "outputs": [
    {
     "name": "stdout",
     "output_type": "stream",
     "text": [
      "Epoch 1/200\n",
      "124/124 - 3s - loss: 0.9007 - accuracy: 0.8012 - val_loss: 0.2682 - val_accuracy: 0.9216\n",
      "Epoch 2/200\n",
      "124/124 - 3s - loss: 0.1809 - accuracy: 0.9463 - val_loss: 0.1708 - val_accuracy: 0.9473\n",
      "Epoch 3/200\n",
      "124/124 - 3s - loss: 0.1146 - accuracy: 0.9655 - val_loss: 0.1302 - val_accuracy: 0.9612\n",
      "Epoch 4/200\n",
      "124/124 - 3s - loss: 0.0720 - accuracy: 0.9779 - val_loss: 0.1157 - val_accuracy: 0.9645\n",
      "Epoch 5/200\n",
      "124/124 - 3s - loss: 0.0495 - accuracy: 0.9845 - val_loss: 0.1175 - val_accuracy: 0.9642\n",
      "Epoch 6/200\n",
      "124/124 - 3s - loss: 0.0306 - accuracy: 0.9911 - val_loss: 0.1066 - val_accuracy: 0.9685\n",
      "Epoch 7/200\n",
      "124/124 - 2s - loss: 0.0166 - accuracy: 0.9957 - val_loss: 0.1046 - val_accuracy: 0.9725\n",
      "Epoch 8/200\n",
      "124/124 - 3s - loss: 0.0137 - accuracy: 0.9962 - val_loss: 0.1144 - val_accuracy: 0.9745\n",
      "Epoch 9/200\n",
      "124/124 - 2s - loss: 0.0100 - accuracy: 0.9970 - val_loss: 0.1103 - val_accuracy: 0.9725\n",
      "Epoch 10/200\n",
      "124/124 - 3s - loss: 0.0120 - accuracy: 0.9966 - val_loss: 0.1481 - val_accuracy: 0.9662\n",
      "Epoch 11/200\n",
      "124/124 - 3s - loss: 0.0145 - accuracy: 0.9951 - val_loss: 0.1298 - val_accuracy: 0.9695\n",
      "Epoch 12/200\n",
      "124/124 - 3s - loss: 0.0191 - accuracy: 0.9930 - val_loss: 0.1077 - val_accuracy: 0.9751\n",
      "Epoch 13/200\n",
      "124/124 - 3s - loss: 0.0190 - accuracy: 0.9931 - val_loss: 0.1443 - val_accuracy: 0.9635\n",
      "Epoch 14/200\n",
      "124/124 - 3s - loss: 0.0128 - accuracy: 0.9957 - val_loss: 0.1099 - val_accuracy: 0.9740\n",
      "Epoch 15/200\n",
      "124/124 - 3s - loss: 0.0046 - accuracy: 0.9985 - val_loss: 0.1133 - val_accuracy: 0.9761\n",
      "Epoch 16/200\n",
      "124/124 - 2s - loss: 0.0051 - accuracy: 0.9985 - val_loss: 0.1325 - val_accuracy: 0.9708\n",
      "Epoch 17/200\n",
      "124/124 - 3s - loss: 0.0074 - accuracy: 0.9978 - val_loss: 0.1152 - val_accuracy: 0.9756\n",
      "Epoch 18/200\n",
      "124/124 - 3s - loss: 0.0246 - accuracy: 0.9920 - val_loss: 0.1587 - val_accuracy: 0.9670\n",
      "Epoch 19/200\n",
      "124/124 - 3s - loss: 0.0160 - accuracy: 0.9945 - val_loss: 0.1311 - val_accuracy: 0.9720\n",
      "Epoch 20/200\n",
      "124/124 - 2s - loss: 0.0122 - accuracy: 0.9958 - val_loss: 0.1361 - val_accuracy: 0.9745\n",
      "Epoch 21/200\n",
      "124/124 - 3s - loss: 0.0184 - accuracy: 0.9936 - val_loss: 0.1418 - val_accuracy: 0.9728\n",
      "Epoch 22/200\n",
      "124/124 - 3s - loss: 0.0158 - accuracy: 0.9944 - val_loss: 0.1480 - val_accuracy: 0.9698\n",
      "Epoch 23/200\n",
      "124/124 - 3s - loss: 0.0099 - accuracy: 0.9969 - val_loss: 0.1359 - val_accuracy: 0.9723\n",
      "Epoch 24/200\n",
      "124/124 - 3s - loss: 0.0148 - accuracy: 0.9954 - val_loss: 0.1692 - val_accuracy: 0.9657\n",
      "Epoch 25/200\n",
      "124/124 - 2s - loss: 0.0146 - accuracy: 0.9951 - val_loss: 0.1662 - val_accuracy: 0.9705\n",
      "Epoch 26/200\n",
      "124/124 - 3s - loss: 0.0108 - accuracy: 0.9965 - val_loss: 0.1380 - val_accuracy: 0.9748\n",
      "Epoch 27/200\n",
      "124/124 - 3s - loss: 0.0069 - accuracy: 0.9975 - val_loss: 0.1321 - val_accuracy: 0.9740\n",
      "Epoch 28/200\n",
      "124/124 - 2s - loss: 0.0046 - accuracy: 0.9984 - val_loss: 0.1386 - val_accuracy: 0.9753\n",
      "Epoch 29/200\n",
      "124/124 - 2s - loss: 0.0021 - accuracy: 0.9993 - val_loss: 0.1341 - val_accuracy: 0.9748\n",
      "Epoch 30/200\n",
      "124/124 - 3s - loss: 0.0053 - accuracy: 0.9981 - val_loss: 0.1485 - val_accuracy: 0.9715\n",
      "Epoch 31/200\n",
      "124/124 - 3s - loss: 0.0104 - accuracy: 0.9965 - val_loss: 0.2197 - val_accuracy: 0.9652\n",
      "Epoch 32/200\n",
      "124/124 - 3s - loss: 0.0310 - accuracy: 0.9908 - val_loss: 0.1856 - val_accuracy: 0.9680\n",
      "Epoch 33/200\n",
      "124/124 - 2s - loss: 0.0194 - accuracy: 0.9935 - val_loss: 0.1470 - val_accuracy: 0.9730\n",
      "Epoch 34/200\n",
      "124/124 - 2s - loss: 0.0123 - accuracy: 0.9954 - val_loss: 0.1548 - val_accuracy: 0.9748\n",
      "Epoch 35/200\n",
      "124/124 - 3s - loss: 0.0047 - accuracy: 0.9982 - val_loss: 0.1280 - val_accuracy: 0.9791\n",
      "Epoch 36/200\n",
      "124/124 - 2s - loss: 0.0058 - accuracy: 0.9982 - val_loss: 0.1394 - val_accuracy: 0.9788\n",
      "Epoch 37/200\n",
      "124/124 - 3s - loss: 0.0092 - accuracy: 0.9971 - val_loss: 0.1397 - val_accuracy: 0.9745\n",
      "Epoch 38/200\n",
      "124/124 - 2s - loss: 0.0018 - accuracy: 0.9994 - val_loss: 0.1582 - val_accuracy: 0.9751\n",
      "Epoch 39/200\n",
      "124/124 - 3s - loss: 0.0073 - accuracy: 0.9981 - val_loss: 0.1662 - val_accuracy: 0.9743\n",
      "Epoch 40/200\n",
      "124/124 - 2s - loss: 0.0165 - accuracy: 0.9949 - val_loss: 0.1584 - val_accuracy: 0.9730\n",
      "Epoch 41/200\n",
      "124/124 - 3s - loss: 0.0100 - accuracy: 0.9969 - val_loss: 0.1615 - val_accuracy: 0.9745\n",
      "Epoch 42/200\n",
      "124/124 - 3s - loss: 0.0100 - accuracy: 0.9968 - val_loss: 0.1636 - val_accuracy: 0.9723\n",
      "Epoch 43/200\n",
      "124/124 - 3s - loss: 0.0164 - accuracy: 0.9950 - val_loss: 0.1515 - val_accuracy: 0.9751\n",
      "Epoch 44/200\n",
      "124/124 - 3s - loss: 0.0028 - accuracy: 0.9992 - val_loss: 0.1632 - val_accuracy: 0.9756\n",
      "Epoch 45/200\n",
      "124/124 - 2s - loss: 7.4481e-04 - accuracy: 0.9998 - val_loss: 0.1574 - val_accuracy: 0.9745\n",
      "Epoch 46/200\n",
      "124/124 - 3s - loss: 3.0100e-04 - accuracy: 1.0000 - val_loss: 0.1585 - val_accuracy: 0.9776\n",
      "Epoch 47/200\n",
      "124/124 - 2s - loss: 4.9998e-05 - accuracy: 1.0000 - val_loss: 0.1575 - val_accuracy: 0.9768\n",
      "Epoch 48/200\n",
      "124/124 - 3s - loss: 2.2155e-04 - accuracy: 0.9999 - val_loss: 0.1779 - val_accuracy: 0.9761\n",
      "Epoch 49/200\n",
      "124/124 - 3s - loss: 1.9049e-05 - accuracy: 1.0000 - val_loss: 0.1711 - val_accuracy: 0.9771\n",
      "Epoch 50/200\n",
      "124/124 - 3s - loss: 1.1298e-05 - accuracy: 1.0000 - val_loss: 0.1705 - val_accuracy: 0.9771\n",
      "Epoch 51/200\n",
      "124/124 - 3s - loss: 9.3764e-06 - accuracy: 1.0000 - val_loss: 0.1704 - val_accuracy: 0.9771\n",
      "Epoch 52/200\n",
      "124/124 - 3s - loss: 8.1700e-06 - accuracy: 1.0000 - val_loss: 0.1701 - val_accuracy: 0.9771\n",
      "Epoch 53/200\n",
      "124/124 - 2s - loss: 7.2662e-06 - accuracy: 1.0000 - val_loss: 0.1700 - val_accuracy: 0.9771\n",
      "Epoch 54/200\n",
      "124/124 - 3s - loss: 6.5595e-06 - accuracy: 1.0000 - val_loss: 0.1700 - val_accuracy: 0.9771\n",
      "Epoch 55/200\n",
      "124/124 - 3s - loss: 5.9777e-06 - accuracy: 1.0000 - val_loss: 0.1699 - val_accuracy: 0.9771\n",
      "Epoch 56/200\n",
      "124/124 - 3s - loss: 5.4888e-06 - accuracy: 1.0000 - val_loss: 0.1700 - val_accuracy: 0.9771\n",
      "Epoch 57/200\n",
      "124/124 - 3s - loss: 5.0560e-06 - accuracy: 1.0000 - val_loss: 0.1701 - val_accuracy: 0.9771\n",
      "Epoch 58/200\n",
      "124/124 - 2s - loss: 4.6860e-06 - accuracy: 1.0000 - val_loss: 0.1702 - val_accuracy: 0.9776\n",
      "Epoch 59/200\n",
      "124/124 - 3s - loss: 4.3555e-06 - accuracy: 1.0000 - val_loss: 0.1702 - val_accuracy: 0.9773\n",
      "Epoch 60/200\n",
      "124/124 - 2s - loss: 4.0508e-06 - accuracy: 1.0000 - val_loss: 0.1703 - val_accuracy: 0.9771\n",
      "Epoch 61/200\n",
      "124/124 - 3s - loss: 3.7824e-06 - accuracy: 1.0000 - val_loss: 0.1705 - val_accuracy: 0.9771\n",
      "Epoch 62/200\n",
      "124/124 - 3s - loss: 3.5362e-06 - accuracy: 1.0000 - val_loss: 0.1705 - val_accuracy: 0.9771\n",
      "Epoch 63/200\n",
      "124/124 - 3s - loss: 3.3099e-06 - accuracy: 1.0000 - val_loss: 0.1707 - val_accuracy: 0.9771\n",
      "Epoch 64/200\n",
      "124/124 - 2s - loss: 3.1029e-06 - accuracy: 1.0000 - val_loss: 0.1709 - val_accuracy: 0.9773\n",
      "Epoch 65/200\n",
      "124/124 - 3s - loss: 2.9124e-06 - accuracy: 1.0000 - val_loss: 0.1710 - val_accuracy: 0.9773\n",
      "Epoch 66/200\n",
      "124/124 - 2s - loss: 2.7376e-06 - accuracy: 1.0000 - val_loss: 0.1711 - val_accuracy: 0.9776\n",
      "Epoch 67/200\n",
      "124/124 - 3s - loss: 2.5720e-06 - accuracy: 1.0000 - val_loss: 0.1714 - val_accuracy: 0.9776\n",
      "Epoch 68/200\n",
      "124/124 - 3s - loss: 2.4221e-06 - accuracy: 1.0000 - val_loss: 0.1715 - val_accuracy: 0.9776\n",
      "Epoch 69/200\n",
      "124/124 - 3s - loss: 2.2763e-06 - accuracy: 1.0000 - val_loss: 0.1717 - val_accuracy: 0.9778\n",
      "Epoch 70/200\n",
      "124/124 - 3s - loss: 2.1431e-06 - accuracy: 1.0000 - val_loss: 0.1720 - val_accuracy: 0.9778\n",
      "Epoch 71/200\n",
      "124/124 - 3s - loss: 2.0170e-06 - accuracy: 1.0000 - val_loss: 0.1721 - val_accuracy: 0.9778\n",
      "Epoch 72/200\n",
      "124/124 - 3s - loss: 1.9022e-06 - accuracy: 1.0000 - val_loss: 0.1723 - val_accuracy: 0.9778\n",
      "Epoch 73/200\n",
      "124/124 - 3s - loss: 1.7895e-06 - accuracy: 1.0000 - val_loss: 0.1725 - val_accuracy: 0.9778\n",
      "Epoch 74/200\n",
      "124/124 - 3s - loss: 1.6864e-06 - accuracy: 1.0000 - val_loss: 0.1727 - val_accuracy: 0.9778\n",
      "Epoch 75/200\n",
      "124/124 - 2s - loss: 1.5868e-06 - accuracy: 1.0000 - val_loss: 0.1729 - val_accuracy: 0.9778\n",
      "Epoch 76/200\n",
      "124/124 - 3s - loss: 1.4973e-06 - accuracy: 1.0000 - val_loss: 0.1731 - val_accuracy: 0.9778\n",
      "Epoch 77/200\n",
      "124/124 - 2s - loss: 1.4114e-06 - accuracy: 1.0000 - val_loss: 0.1733 - val_accuracy: 0.9778\n",
      "Epoch 78/200\n",
      "124/124 - 3s - loss: 1.3307e-06 - accuracy: 1.0000 - val_loss: 0.1736 - val_accuracy: 0.9778\n",
      "Epoch 79/200\n",
      "124/124 - 2s - loss: 1.2556e-06 - accuracy: 1.0000 - val_loss: 0.1737 - val_accuracy: 0.9778\n",
      "Epoch 80/200\n",
      "124/124 - 3s - loss: 1.1857e-06 - accuracy: 1.0000 - val_loss: 0.1740 - val_accuracy: 0.9778\n",
      "Epoch 81/200\n",
      "124/124 - 2s - loss: 1.1163e-06 - accuracy: 1.0000 - val_loss: 0.1742 - val_accuracy: 0.9778\n",
      "Epoch 82/200\n",
      "124/124 - 3s - loss: 1.0531e-06 - accuracy: 1.0000 - val_loss: 0.1745 - val_accuracy: 0.9778\n",
      "Epoch 83/200\n",
      "124/124 - 3s - loss: 9.9215e-07 - accuracy: 1.0000 - val_loss: 0.1748 - val_accuracy: 0.9781\n",
      "Epoch 84/200\n",
      "124/124 - 3s - loss: 9.3588e-07 - accuracy: 1.0000 - val_loss: 0.1751 - val_accuracy: 0.9778\n",
      "Epoch 85/200\n",
      "124/124 - 3s - loss: 8.8065e-07 - accuracy: 1.0000 - val_loss: 0.1752 - val_accuracy: 0.9781\n",
      "Epoch 86/200\n",
      "124/124 - 3s - loss: 8.3047e-07 - accuracy: 1.0000 - val_loss: 0.1756 - val_accuracy: 0.9778\n",
      "Epoch 87/200\n",
      "124/124 - 3s - loss: 7.8282e-07 - accuracy: 1.0000 - val_loss: 0.1759 - val_accuracy: 0.9781\n",
      "Epoch 88/200\n",
      "124/124 - 3s - loss: 7.3833e-07 - accuracy: 1.0000 - val_loss: 0.1761 - val_accuracy: 0.9778\n",
      "Epoch 89/200\n",
      "124/124 - 3s - loss: 6.9438e-07 - accuracy: 1.0000 - val_loss: 0.1765 - val_accuracy: 0.9778\n",
      "Epoch 90/200\n",
      "124/124 - 2s - loss: 6.5417e-07 - accuracy: 1.0000 - val_loss: 0.1767 - val_accuracy: 0.9778\n",
      "Epoch 91/200\n",
      "124/124 - 3s - loss: 6.1542e-07 - accuracy: 1.0000 - val_loss: 0.1770 - val_accuracy: 0.9778\n",
      "Epoch 92/200\n",
      "124/124 - 2s - loss: 5.7962e-07 - accuracy: 1.0000 - val_loss: 0.1773 - val_accuracy: 0.9778\n",
      "Epoch 93/200\n",
      "124/124 - 3s - loss: 5.4550e-07 - accuracy: 1.0000 - val_loss: 0.1776 - val_accuracy: 0.9778\n",
      "Epoch 94/200\n",
      "124/124 - 2s - loss: 5.1382e-07 - accuracy: 1.0000 - val_loss: 0.1778 - val_accuracy: 0.9778\n",
      "Epoch 95/200\n",
      "124/124 - 3s - loss: 4.8344e-07 - accuracy: 1.0000 - val_loss: 0.1781 - val_accuracy: 0.9778\n",
      "Epoch 96/200\n",
      "124/124 - 3s - loss: 4.5435e-07 - accuracy: 1.0000 - val_loss: 0.1785 - val_accuracy: 0.9778\n",
      "Epoch 97/200\n",
      "124/124 - 3s - loss: 4.2724e-07 - accuracy: 1.0000 - val_loss: 0.1788 - val_accuracy: 0.9778\n",
      "Epoch 98/200\n",
      "124/124 - 3s - loss: 4.0243e-07 - accuracy: 1.0000 - val_loss: 0.1791 - val_accuracy: 0.9778\n",
      "Epoch 99/200\n",
      "124/124 - 3s - loss: 3.7840e-07 - accuracy: 1.0000 - val_loss: 0.1794 - val_accuracy: 0.9778\n",
      "Epoch 100/200\n",
      "124/124 - 3s - loss: 3.5682e-07 - accuracy: 1.0000 - val_loss: 0.1797 - val_accuracy: 0.9781\n",
      "Epoch 101/200\n",
      "124/124 - 2s - loss: 3.3571e-07 - accuracy: 1.0000 - val_loss: 0.1800 - val_accuracy: 0.9781\n",
      "Epoch 102/200\n",
      "124/124 - 3s - loss: 3.1544e-07 - accuracy: 1.0000 - val_loss: 0.1802 - val_accuracy: 0.9778\n",
      "Epoch 103/200\n",
      "124/124 - 2s - loss: 2.9644e-07 - accuracy: 1.0000 - val_loss: 0.1806 - val_accuracy: 0.9778\n",
      "Epoch 104/200\n",
      "124/124 - 3s - loss: 2.7821e-07 - accuracy: 1.0000 - val_loss: 0.1810 - val_accuracy: 0.9778\n",
      "Epoch 105/200\n",
      "124/124 - 2s - loss: 2.6178e-07 - accuracy: 1.0000 - val_loss: 0.1813 - val_accuracy: 0.9778\n",
      "Epoch 106/200\n",
      "124/124 - 3s - loss: 2.4611e-07 - accuracy: 1.0000 - val_loss: 0.1817 - val_accuracy: 0.9778\n",
      "Epoch 107/200\n",
      "124/124 - 2s - loss: 2.3116e-07 - accuracy: 1.0000 - val_loss: 0.1820 - val_accuracy: 0.9776\n",
      "Epoch 108/200\n",
      "124/124 - 2s - loss: 2.1757e-07 - accuracy: 1.0000 - val_loss: 0.1823 - val_accuracy: 0.9776\n",
      "Epoch 109/200\n",
      "124/124 - 3s - loss: 2.0433e-07 - accuracy: 1.0000 - val_loss: 0.1826 - val_accuracy: 0.9778\n",
      "Epoch 110/200\n",
      "124/124 - 2s - loss: 1.9211e-07 - accuracy: 1.0000 - val_loss: 0.1830 - val_accuracy: 0.9778\n",
      "Epoch 111/200\n",
      "124/124 - 3s - loss: 1.8041e-07 - accuracy: 1.0000 - val_loss: 0.1833 - val_accuracy: 0.9778\n",
      "Epoch 112/200\n",
      "124/124 - 3s - loss: 1.6913e-07 - accuracy: 1.0000 - val_loss: 0.1837 - val_accuracy: 0.9778\n",
      "Epoch 113/200\n",
      "124/124 - 3s - loss: 1.5892e-07 - accuracy: 1.0000 - val_loss: 0.1841 - val_accuracy: 0.9778\n",
      "Epoch 114/200\n",
      "124/124 - 2s - loss: 1.4962e-07 - accuracy: 1.0000 - val_loss: 0.1845 - val_accuracy: 0.9778\n",
      "Epoch 115/200\n",
      "124/124 - 3s - loss: 1.4058e-07 - accuracy: 1.0000 - val_loss: 0.1849 - val_accuracy: 0.9781\n",
      "Epoch 116/200\n",
      "124/124 - 2s - loss: 1.3172e-07 - accuracy: 1.0000 - val_loss: 0.1853 - val_accuracy: 0.9781\n",
      "Epoch 117/200\n",
      "124/124 - 3s - loss: 1.2382e-07 - accuracy: 1.0000 - val_loss: 0.1856 - val_accuracy: 0.9778\n",
      "Epoch 118/200\n",
      "124/124 - 3s - loss: 1.1602e-07 - accuracy: 1.0000 - val_loss: 0.1859 - val_accuracy: 0.9778\n",
      "Epoch 119/200\n",
      "124/124 - 3s - loss: 1.0906e-07 - accuracy: 1.0000 - val_loss: 0.1864 - val_accuracy: 0.9781\n",
      "Epoch 120/200\n",
      "124/124 - 2s - loss: 1.0236e-07 - accuracy: 1.0000 - val_loss: 0.1867 - val_accuracy: 0.9778\n",
      "Epoch 121/200\n",
      "124/124 - 3s - loss: 9.6369e-08 - accuracy: 1.0000 - val_loss: 0.1872 - val_accuracy: 0.9783\n",
      "Epoch 122/200\n",
      "124/124 - 2s - loss: 9.0218e-08 - accuracy: 1.0000 - val_loss: 0.1875 - val_accuracy: 0.9781\n",
      "Epoch 123/200\n",
      "124/124 - 3s - loss: 8.4795e-08 - accuracy: 1.0000 - val_loss: 0.1879 - val_accuracy: 0.9778\n",
      "Epoch 124/200\n",
      "124/124 - 3s - loss: 7.9448e-08 - accuracy: 1.0000 - val_loss: 0.1883 - val_accuracy: 0.9781\n",
      "Epoch 125/200\n",
      "124/124 - 3s - loss: 7.4461e-08 - accuracy: 1.0000 - val_loss: 0.1886 - val_accuracy: 0.9781\n",
      "Epoch 126/200\n",
      "124/124 - 3s - loss: 6.9894e-08 - accuracy: 1.0000 - val_loss: 0.1890 - val_accuracy: 0.9783\n",
      "Epoch 127/200\n",
      "124/124 - 2s - loss: 6.5335e-08 - accuracy: 1.0000 - val_loss: 0.1893 - val_accuracy: 0.9783\n",
      "Epoch 128/200\n",
      "124/124 - 3s - loss: 6.1355e-08 - accuracy: 1.0000 - val_loss: 0.1898 - val_accuracy: 0.9786\n",
      "Epoch 129/200\n",
      "124/124 - 2s - loss: 5.7517e-08 - accuracy: 1.0000 - val_loss: 0.1902 - val_accuracy: 0.9786\n",
      "Epoch 130/200\n",
      "124/124 - 3s - loss: 5.4002e-08 - accuracy: 1.0000 - val_loss: 0.1905 - val_accuracy: 0.9783\n",
      "Epoch 131/200\n",
      "124/124 - 3s - loss: 5.0517e-08 - accuracy: 1.0000 - val_loss: 0.1911 - val_accuracy: 0.9783\n",
      "Epoch 132/200\n",
      "124/124 - 3s - loss: 4.7392e-08 - accuracy: 1.0000 - val_loss: 0.1914 - val_accuracy: 0.9783\n",
      "Epoch 133/200\n",
      "124/124 - 2s - loss: 4.4298e-08 - accuracy: 1.0000 - val_loss: 0.1918 - val_accuracy: 0.9781\n",
      "Epoch 134/200\n",
      "124/124 - 3s - loss: 4.1632e-08 - accuracy: 1.0000 - val_loss: 0.1922 - val_accuracy: 0.9781\n",
      "Epoch 135/200\n",
      "124/124 - 2s - loss: 3.9048e-08 - accuracy: 1.0000 - val_loss: 0.1926 - val_accuracy: 0.9778\n",
      "Epoch 136/200\n",
      "124/124 - 3s - loss: 3.6494e-08 - accuracy: 1.0000 - val_loss: 0.1929 - val_accuracy: 0.9778\n",
      "Epoch 137/200\n",
      "124/124 - 3s - loss: 3.4113e-08 - accuracy: 1.0000 - val_loss: 0.1934 - val_accuracy: 0.9778\n",
      "Epoch 138/200\n",
      "124/124 - 3s - loss: 3.2010e-08 - accuracy: 1.0000 - val_loss: 0.1938 - val_accuracy: 0.9776\n",
      "Epoch 139/200\n",
      "124/124 - 3s - loss: 3.0110e-08 - accuracy: 1.0000 - val_loss: 0.1942 - val_accuracy: 0.9778\n",
      "Epoch 140/200\n",
      "124/124 - 2s - loss: 2.8285e-08 - accuracy: 1.0000 - val_loss: 0.1947 - val_accuracy: 0.9778\n",
      "Epoch 141/200\n",
      "124/124 - 3s - loss: 2.6370e-08 - accuracy: 1.0000 - val_loss: 0.1950 - val_accuracy: 0.9778\n",
      "Epoch 142/200\n",
      "124/124 - 2s - loss: 2.4800e-08 - accuracy: 1.0000 - val_loss: 0.1955 - val_accuracy: 0.9778\n",
      "Epoch 143/200\n",
      "124/124 - 3s - loss: 2.3178e-08 - accuracy: 1.0000 - val_loss: 0.1959 - val_accuracy: 0.9778\n",
      "Epoch 144/200\n",
      "124/124 - 2s - loss: 2.1721e-08 - accuracy: 1.0000 - val_loss: 0.1963 - val_accuracy: 0.9778\n",
      "Epoch 145/200\n",
      "124/124 - 3s - loss: 2.0444e-08 - accuracy: 1.0000 - val_loss: 0.1967 - val_accuracy: 0.9778\n",
      "Epoch 146/200\n",
      "124/124 - 2s - loss: 1.9085e-08 - accuracy: 1.0000 - val_loss: 0.1971 - val_accuracy: 0.9778\n",
      "Epoch 147/200\n",
      "124/124 - 3s - loss: 1.7988e-08 - accuracy: 1.0000 - val_loss: 0.1976 - val_accuracy: 0.9778\n",
      "Epoch 148/200\n",
      "124/124 - 2s - loss: 1.6756e-08 - accuracy: 1.0000 - val_loss: 0.1980 - val_accuracy: 0.9778\n",
      "Epoch 149/200\n",
      "124/124 - 3s - loss: 1.5720e-08 - accuracy: 1.0000 - val_loss: 0.1984 - val_accuracy: 0.9778\n",
      "Epoch 150/200\n",
      "124/124 - 3s - loss: 1.4788e-08 - accuracy: 1.0000 - val_loss: 0.1987 - val_accuracy: 0.9778\n",
      "Epoch 151/200\n",
      "124/124 - 3s - loss: 1.3842e-08 - accuracy: 1.0000 - val_loss: 0.1991 - val_accuracy: 0.9778\n",
      "Epoch 152/200\n",
      "124/124 - 2s - loss: 1.3008e-08 - accuracy: 1.0000 - val_loss: 0.1994 - val_accuracy: 0.9778\n",
      "Epoch 153/200\n",
      "124/124 - 3s - loss: 1.2220e-08 - accuracy: 1.0000 - val_loss: 0.1999 - val_accuracy: 0.9778\n",
      "Epoch 154/200\n",
      "124/124 - 3s - loss: 1.1446e-08 - accuracy: 1.0000 - val_loss: 0.2002 - val_accuracy: 0.9778\n",
      "Epoch 155/200\n",
      "124/124 - 2s - loss: 1.0725e-08 - accuracy: 1.0000 - val_loss: 0.2006 - val_accuracy: 0.9778\n",
      "Epoch 156/200\n",
      "124/124 - 3s - loss: 1.0117e-08 - accuracy: 1.0000 - val_loss: 0.2011 - val_accuracy: 0.9778\n",
      "Epoch 157/200\n",
      "124/124 - 2s - loss: 9.5310e-09 - accuracy: 1.0000 - val_loss: 0.2014 - val_accuracy: 0.9778\n",
      "Epoch 158/200\n",
      "124/124 - 3s - loss: 8.8626e-09 - accuracy: 1.0000 - val_loss: 0.2017 - val_accuracy: 0.9781\n",
      "Epoch 159/200\n",
      "124/124 - 2s - loss: 8.2993e-09 - accuracy: 1.0000 - val_loss: 0.2021 - val_accuracy: 0.9781\n",
      "Epoch 160/200\n",
      "124/124 - 3s - loss: 7.8261e-09 - accuracy: 1.0000 - val_loss: 0.2026 - val_accuracy: 0.9781\n",
      "Epoch 161/200\n",
      "124/124 - 3s - loss: 7.3680e-09 - accuracy: 1.0000 - val_loss: 0.2028 - val_accuracy: 0.9781\n",
      "Epoch 162/200\n",
      "124/124 - 3s - loss: 6.9924e-09 - accuracy: 1.0000 - val_loss: 0.2032 - val_accuracy: 0.9778\n",
      "Epoch 163/200\n",
      "124/124 - 2s - loss: 6.5643e-09 - accuracy: 1.0000 - val_loss: 0.2036 - val_accuracy: 0.9778\n",
      "Epoch 164/200\n",
      "124/124 - 3s - loss: 6.2339e-09 - accuracy: 1.0000 - val_loss: 0.2039 - val_accuracy: 0.9778\n",
      "Epoch 165/200\n",
      "124/124 - 2s - loss: 5.8733e-09 - accuracy: 1.0000 - val_loss: 0.2043 - val_accuracy: 0.9778\n",
      "Epoch 166/200\n",
      "124/124 - 3s - loss: 5.4678e-09 - accuracy: 1.0000 - val_loss: 0.2047 - val_accuracy: 0.9778\n",
      "Epoch 167/200\n",
      "124/124 - 2s - loss: 5.1148e-09 - accuracy: 1.0000 - val_loss: 0.2050 - val_accuracy: 0.9778\n",
      "Epoch 168/200\n",
      "124/124 - 3s - loss: 4.8068e-09 - accuracy: 1.0000 - val_loss: 0.2054 - val_accuracy: 0.9778\n",
      "Epoch 169/200\n",
      "124/124 - 3s - loss: 4.5064e-09 - accuracy: 1.0000 - val_loss: 0.2058 - val_accuracy: 0.9778\n",
      "Epoch 170/200\n",
      "124/124 - 3s - loss: 4.2360e-09 - accuracy: 1.0000 - val_loss: 0.2059 - val_accuracy: 0.9778\n",
      "Epoch 171/200\n",
      "124/124 - 3s - loss: 4.0182e-09 - accuracy: 1.0000 - val_loss: 0.2063 - val_accuracy: 0.9778\n",
      "Epoch 172/200\n",
      "124/124 - 2s - loss: 3.8079e-09 - accuracy: 1.0000 - val_loss: 0.2066 - val_accuracy: 0.9778\n",
      "Epoch 173/200\n",
      "124/124 - 3s - loss: 3.5375e-09 - accuracy: 1.0000 - val_loss: 0.2071 - val_accuracy: 0.9778\n",
      "Epoch 174/200\n",
      "124/124 - 3s - loss: 3.2972e-09 - accuracy: 1.0000 - val_loss: 0.2074 - val_accuracy: 0.9781\n",
      "Epoch 175/200\n",
      "124/124 - 3s - loss: 3.0568e-09 - accuracy: 1.0000 - val_loss: 0.2074 - val_accuracy: 0.9781\n",
      "Epoch 176/200\n",
      "124/124 - 3s - loss: 2.8691e-09 - accuracy: 1.0000 - val_loss: 0.2078 - val_accuracy: 0.9781\n",
      "Epoch 177/200\n",
      "124/124 - 3s - loss: 2.6963e-09 - accuracy: 1.0000 - val_loss: 0.2078 - val_accuracy: 0.9781\n",
      "Epoch 178/200\n",
      "124/124 - 3s - loss: 2.5762e-09 - accuracy: 1.0000 - val_loss: 0.2079 - val_accuracy: 0.9781\n",
      "Epoch 179/200\n",
      "124/124 - 3s - loss: 2.4410e-09 - accuracy: 1.0000 - val_loss: 0.2082 - val_accuracy: 0.9781\n",
      "Epoch 180/200\n",
      "124/124 - 3s - loss: 2.3058e-09 - accuracy: 1.0000 - val_loss: 0.2084 - val_accuracy: 0.9781\n",
      "Epoch 181/200\n",
      "124/124 - 3s - loss: 2.1556e-09 - accuracy: 1.0000 - val_loss: 0.2086 - val_accuracy: 0.9781\n",
      "Epoch 182/200\n",
      "124/124 - 3s - loss: 2.0654e-09 - accuracy: 1.0000 - val_loss: 0.2087 - val_accuracy: 0.9781\n",
      "Epoch 183/200\n",
      "124/124 - 3s - loss: 1.9302e-09 - accuracy: 1.0000 - val_loss: 0.2088 - val_accuracy: 0.9781\n",
      "Epoch 184/200\n",
      "124/124 - 2s - loss: 1.8702e-09 - accuracy: 1.0000 - val_loss: 0.2091 - val_accuracy: 0.9781\n",
      "Epoch 185/200\n",
      "124/124 - 3s - loss: 1.7875e-09 - accuracy: 1.0000 - val_loss: 0.2092 - val_accuracy: 0.9781\n",
      "Epoch 186/200\n",
      "124/124 - 3s - loss: 1.6824e-09 - accuracy: 1.0000 - val_loss: 0.2094 - val_accuracy: 0.9781\n",
      "Epoch 187/200\n",
      "124/124 - 3s - loss: 1.6073e-09 - accuracy: 1.0000 - val_loss: 0.2095 - val_accuracy: 0.9781\n",
      "Epoch 188/200\n",
      "124/124 - 2s - loss: 1.5096e-09 - accuracy: 1.0000 - val_loss: 0.2097 - val_accuracy: 0.9781\n",
      "Epoch 189/200\n",
      "124/124 - 3s - loss: 1.4270e-09 - accuracy: 1.0000 - val_loss: 0.2098 - val_accuracy: 0.9781\n",
      "Epoch 190/200\n",
      "124/124 - 2s - loss: 1.3745e-09 - accuracy: 1.0000 - val_loss: 0.2099 - val_accuracy: 0.9781\n",
      "Epoch 191/200\n",
      "124/124 - 3s - loss: 1.2393e-09 - accuracy: 1.0000 - val_loss: 0.2101 - val_accuracy: 0.9783\n",
      "Epoch 192/200\n",
      "124/124 - 3s - loss: 1.2618e-09 - accuracy: 1.0000 - val_loss: 0.2100 - val_accuracy: 0.9783\n",
      "Epoch 193/200\n",
      "124/124 - 3s - loss: 1.1341e-09 - accuracy: 1.0000 - val_loss: 0.2101 - val_accuracy: 0.9783\n",
      "Epoch 194/200\n",
      "124/124 - 3s - loss: 1.1191e-09 - accuracy: 1.0000 - val_loss: 0.2103 - val_accuracy: 0.9783\n",
      "Epoch 195/200\n",
      "124/124 - 3s - loss: 1.0215e-09 - accuracy: 1.0000 - val_loss: 0.2097 - val_accuracy: 0.9783\n",
      "Epoch 196/200\n",
      "124/124 - 3s - loss: 1.0215e-09 - accuracy: 1.0000 - val_loss: 0.2096 - val_accuracy: 0.9783\n",
      "Epoch 197/200\n",
      "124/124 - 3s - loss: 9.8390e-10 - accuracy: 1.0000 - val_loss: 0.2094 - val_accuracy: 0.9783\n",
      "Epoch 198/200\n",
      "124/124 - 2s - loss: 9.9141e-10 - accuracy: 1.0000 - val_loss: 0.2094 - val_accuracy: 0.9781\n",
      "Epoch 199/200\n",
      "124/124 - 3s - loss: 8.7875e-10 - accuracy: 1.0000 - val_loss: 0.2090 - val_accuracy: 0.9778\n",
      "Epoch 200/200\n",
      "124/124 - 3s - loss: 9.1630e-10 - accuracy: 1.0000 - val_loss: 0.2090 - val_accuracy: 0.9781\n"
     ]
    }
   ],
   "source": [
    "history = model_new.fit(X_train, Y_train, batch_size=128, epochs = 200, validation_data=(X_val, Y_val), verbose = 2)"
   ]
  },
  {
   "cell_type": "code",
   "execution_count": 145,
   "id": "249cf847",
   "metadata": {},
   "outputs": [
    {
     "name": "stdout",
     "output_type": "stream",
     "text": [
      "Old model performance: \n",
      "Training accuracy is 0.9855967164039612\n",
      "Validation accuracy is 0.982657253742218\n",
      "\n",
      "\n",
      "New model performance:\n",
      "Training accuracy is 0.9986391067504883\n",
      "Validation accuracy is 0.9814516305923462\n"
     ]
    }
   ],
   "source": [
    "print('Old model performance: \\nTraining accuracy is 0.9855967164039612\\nValidation accuracy is 0.982657253742218\\n\\n')\n",
    "print('New model performance:')\n",
    "print('Training accuracy is {}'.format(history.history['accuracy'][-1]))\n",
    "print('Validation accuracy is {}'.format(history.history['val_accuracy'][-1]))"
   ]
  },
  {
   "cell_type": "code",
   "execution_count": null,
   "id": "3769ba54",
   "metadata": {},
   "outputs": [],
   "source": [
    "# # Changed back padding to 'same' in second layer\n",
    "\n",
    "# print('Old model performance: \\nTraining accuracy is 0.9855967164039612\\nValidation accuracy is 0.982657253742218\\n\\n')\n",
    "# print('New model performance:')\n",
    "# print('Training accuracy is {}'.format(history.history['accuracy'][-1]))\n",
    "# print('Validation accuracy is {}'.format(history.history['val_accuracy'][-1]))"
   ]
  },
  {
   "cell_type": "code",
   "execution_count": 146,
   "id": "283bbec6",
   "metadata": {},
   "outputs": [
    {
     "data": {
      "text/plain": [
       "<matplotlib.legend.Legend at 0x1c444c81310>"
      ]
     },
     "execution_count": 146,
     "metadata": {},
     "output_type": "execute_result"
    },
    {
     "data": {
      "image/png": "[encoded data removed]",
      "text/plain": [
       "<Figure size 864x432 with 2 Axes>"
      ]
     },
     "metadata": {
      "needs_background": "light"
     },
     "output_type": "display_data"
    }
   ],
   "source": [
    "fig, ax = plt.subplots(1,2, figsize= (12,6))\n",
    "\n",
    "ax[0].plot(history.history['loss'], label = 'Training loss')\n",
    "ax[0].plot(history.history['val_loss'], label = 'Validation loss')\n",
    "ax[0].legend()\n",
    "\n",
    "ax[1].plot(history.history['accuracy'], label = 'Training accuracy')\n",
    "ax[1].plot(history.history['val_accuracy'], label = 'Validation accuracy')\n",
    "ax[1].legend()"
   ]
  },
  {
   "cell_type": "code",
   "execution_count": 147,
   "id": "b7e76e61",
   "metadata": {},
   "outputs": [],
   "source": [
    "Y_pred = model.predict(X_val)\n",
    "Y_pred = np.argmax(Y_pred, axis = 1)\n",
    "Y_true = np.argmax(Y_val, axis = 1)"
   ]
  },
  {
   "cell_type": "code",
   "execution_count": 148,
   "id": "34534175",
   "metadata": {},
   "outputs": [
    {
     "data": {
      "text/plain": [
       "<sklearn.metrics._plot.confusion_matrix.ConfusionMatrixDisplay at 0x1c44590a3d0>"
      ]
     },
     "execution_count": 148,
     "metadata": {},
     "output_type": "execute_result"
    },
    {
     "data": {
      "image/png": "[encoded data removed]",
      "text/plain": [
       "<Figure size 432x288 with 2 Axes>"
      ]
     },
     "metadata": {
      "needs_background": "light"
     },
     "output_type": "display_data"
    }
   ],
   "source": [
    "ConfusionMatrixDisplay(confusion_matrix(Y_true,Y_pred)).plot()"
   ]
  },
  {
   "cell_type": "code",
   "execution_count": 151,
   "id": "41c1ae2d",
   "metadata": {},
   "outputs": [
    {
     "name": "stdout",
     "output_type": "stream",
     "text": [
      "              precision    recall  f1-score   support\n",
      "\n",
      "           0     0.9895    0.9979    0.9937       474\n",
      "           1     0.9892    0.9964    0.9928       550\n",
      "           2     0.9941    0.9922    0.9931       510\n",
      "           3     0.9846    0.9903    0.9874       516\n",
      "           4     0.9872    0.9935    0.9904       465\n",
      "           5     0.9955    0.9955    0.9955       440\n",
      "           6     0.9960    0.9920    0.9940       499\n",
      "           7     0.9829    0.9942    0.9885       519\n",
      "           8     0.9878    0.9798    0.9837       494\n",
      "           9     0.9938    0.9675    0.9805       493\n",
      "\n",
      "    accuracy                         0.9899      4960\n",
      "   macro avg     0.9900    0.9899    0.9900      4960\n",
      "weighted avg     0.9899    0.9899    0.9899      4960\n",
      "\n"
     ]
    }
   ],
   "source": [
    "print(classification_report(Y_true,Y_pred, digits=4))"
   ]
  },
  {
   "cell_type": "code",
   "execution_count": null,
   "id": "c24f02f6",
   "metadata": {},
   "outputs": [],
   "source": []
  }
 ],
 "metadata": {
  "kernelspec": {
   "display_name": "Python 3",
   "language": "python",
   "name": "python3"
  },
  "language_info": {
   "codemirror_mode": {
    "name": "ipython",
    "version": 3
   },
   "file_extension": ".py",
   "mimetype": "text/x-python",
   "name": "python",
   "nbconvert_exporter": "python",
   "pygments_lexer": "ipython3",
   "version": "3.8.8"
  }
 },
 "nbformat": 4,
 "nbformat_minor": 5
}
